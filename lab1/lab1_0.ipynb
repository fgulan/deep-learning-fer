{
 "cells": [
  {
   "cell_type": "code",
   "execution_count": 5,
   "metadata": {},
   "outputs": [],
   "source": [
    "import tensorflow as tf\n",
    "import numpy as np\n",
    "from tf_deep import TFDeep\n",
    "from data import eval_perf_multi\n",
    "from tensorflow.examples.tutorials.mnist import input_data\n",
    "from sklearn.model_selection import train_test_split\n",
    "from sklearn import svm\n",
    "import matplotlib.pyplot as plt"
   ]
  },
  {
   "cell_type": "code",
   "execution_count": 2,
   "metadata": {},
   "outputs": [
    {
     "name": "stdout",
     "output_type": "stream",
     "text": [
      "Extracting /tmp/data/train-images-idx3-ubyte.gz\n",
      "Extracting /tmp/data/train-labels-idx1-ubyte.gz\n",
      "Extracting /tmp/data/t10k-images-idx3-ubyte.gz\n",
      "Extracting /tmp/data/t10k-labels-idx1-ubyte.gz\n",
      "Loaded data\n"
     ]
    }
   ],
   "source": [
    "tf.app.flags.DEFINE_string('data_dir', '/tmp/data/', 'Directory for storing data')\n",
    "mnist = input_data.read_data_sets(tf.app.flags.FLAGS.data_dir, one_hot=True)\n",
    "\n",
    "tf.set_random_seed(100)\n",
    "np.random.seed(100)\n",
    "\n",
    "N = mnist.train.images.shape[0]\n",
    "D = mnist.train.images.shape[1]\n",
    "C = mnist.train.labels.shape[1]\n",
    "print(\"Loaded data\")"
   ]
  },
  {
   "cell_type": "markdown",
   "metadata": {},
   "source": [
    "#### Model konfiguracije [784,10]\n",
    "\n"
   ]
  },
  {
   "cell_type": "code",
   "execution_count": 7,
   "metadata": {},
   "outputs": [
    {
     "name": "stdout",
     "output_type": "stream",
     "text": [
      "Iter 0 => loss: 51.889774322509766\n",
      "Iter 50 => loss: 37.510032653808594\n",
      "Iter 100 => loss: 30.6799259185791\n",
      "Iter 150 => loss: 25.85194969177246\n",
      "Iter 200 => loss: 22.014108657836914\n",
      "Iter 250 => loss: 18.83545684814453\n",
      "Iter 300 => loss: 16.159456253051758\n",
      "Iter 350 => loss: 13.8896484375\n",
      "Iter 400 => loss: 11.956985473632812\n",
      "Iter 450 => loss: 10.307954788208008\n"
     ]
    },
    {
     "data": {
      "text/plain": [
       "(0.82520000000000004,\n",
       " [(0.86724806201550386, 0.91326530612244894),\n",
       "  (0.92367736339982653, 0.93832599118942728),\n",
       "  (0.84406438631790748, 0.81298449612403101),\n",
       "  (0.79883381924198249, 0.81386138613861381),\n",
       "  (0.81275303643724695, 0.81771894093686359),\n",
       "  (0.75147928994082835, 0.71188340807174888),\n",
       "  (0.85729058945191317, 0.86534446764091855),\n",
       "  (0.86097318768619657, 0.8433852140077821),\n",
       "  (0.74348697394789576, 0.76180698151950721),\n",
       "  (0.7649442755825735, 0.74826560951437071)],\n",
       " array([[ 895,    1,   16,   17,    9,   32,   23,    9,   14,   16],\n",
       "        [   0, 1065,   13,   10,    5,   13,    6,   14,   17,   10],\n",
       "        [  10,    4,  839,   25,   13,   10,   25,   35,   20,   13],\n",
       "        [   7,   17,   34,  822,    8,   60,    8,   16,   38,   19],\n",
       "        [   0,    1,   18,    4,  803,   12,   26,   12,   15,   97],\n",
       "        [  33,    3,    5,   54,    8,  635,   22,    4,   67,   14],\n",
       "        [  20,    5,   29,   13,   18,   28,  829,    5,   12,    8],\n",
       "        [   4,    0,   17,   17,   12,   21,    3,  867,   14,   52],\n",
       "        [  10,   38,   40,   30,   15,   72,   13,   13,  742,   25],\n",
       "        [   1,    1,   21,   18,   91,    9,    3,   53,   35,  755]]))"
      ]
     },
     "execution_count": 7,
     "metadata": {},
     "output_type": "execute_result"
    }
   ],
   "source": [
    "Y_test_ = np.argmax(mnist.test.labels, axis=1)\n",
    "model = TFDeep([D, C], param_delta=0.15, param_lambda=0.001)\n",
    "model.train(mnist.train.images, mnist.train.labels, 500, print_step=50)\n",
    "Y_test = np.argmax(model.eval(mnist.test.images), axis=1)\n",
    "eval_perf_multi(Y_test_, Y_test)"
   ]
  },
  {
   "cell_type": "code",
   "execution_count": null,
   "metadata": {},
   "outputs": [],
   "source": []
  },
  {
   "cell_type": "markdown",
   "metadata": {},
   "source": [
    "#### Model [784, 100, 10]"
   ]
  },
  {
   "cell_type": "code",
   "execution_count": 3,
   "metadata": {},
   "outputs": [
    {
     "name": "stdout",
     "output_type": "stream",
     "text": [
      "Iter 0 => loss: 20.619083404541016\n",
      "Iter 50 => loss: 20.519054412841797\n",
      "Iter 100 => loss: 20.404430389404297\n",
      "Iter 150 => loss: 20.272144317626953\n",
      "Iter 200 => loss: 20.12302589416504\n"
     ]
    },
    {
     "data": {
      "text/plain": [
       "(0.0935,\n",
       " [(0.080967402733964244, 0.07857142857142857),\n",
       "  (0.3935483870967742, 0.053744493392070485),\n",
       "  (0.074196207749381696, 0.087209302325581398),\n",
       "  (0.11303273625694873, 0.18118811881188118),\n",
       "  (0.084435165854790079, 0.37067209775967414),\n",
       "  (0.015544041450777202, 0.0033632286995515697),\n",
       "  (0.052873563218390804, 0.024008350730688934),\n",
       "  (0.11764705882352941, 0.0019455252918287938),\n",
       "  (0.040293040293040296, 0.011293634496919919),\n",
       "  (0.14525810324129651, 0.11992071357779981)],\n",
       " array([[ 77,  11,  79,  55,  94,   9, 112, 232,  65, 217],\n",
       "        [ 36,  61,  13,   0,  15,   7,   8,  10,   3,   2],\n",
       "        [ 67, 181,  90, 366, 102, 171,  57,  22, 111,  46],\n",
       "        [113,  76,  81, 183, 235, 168,  64, 100, 251, 348],\n",
       "        [194, 494, 704, 314, 364, 420, 611, 458, 505, 247],\n",
       "        [ 20,  97,  11,   2,  16,   3,  29,   1,   9,   5],\n",
       "        [ 94, 137,  29,  23,  30,  12,  23,  74,   6,   7],\n",
       "        [  0,   0,   2,   0,   6,   1,   1,   2,   1,   4],\n",
       "        [ 23,  66,  10,  38,  65,  24,  16,   8,  11,  12],\n",
       "        [356,  12,  13,  29,  55,  77,  37, 121,  12, 121]]))"
      ]
     },
     "execution_count": 3,
     "metadata": {},
     "output_type": "execute_result"
    }
   ],
   "source": [
    "Y_train_ = np.argmax(mnist.train.labels, axis=1)\n",
    "Y_test_ = np.argmax(mnist.test.labels, axis=1)\n",
    "model1 = TFDeep([D, 100, C], param_delta=0.0015, param_lambda=0.000001)\n",
    "model1.train(mnist.train.images, mnist.train.labels, 250, print_step=50)\n",
    "Y_test = np.argmax(model1.eval(mnist.test.images), axis=1)\n",
    "eval_perf_multi(Y_test_, Y_test)"
   ]
  },
  {
   "cell_type": "markdown",
   "metadata": {},
   "source": [
    "#### Skup za validaciju"
   ]
  },
  {
   "cell_type": "code",
   "execution_count": 3,
   "metadata": {},
   "outputs": [
    {
     "name": "stdout",
     "output_type": "stream",
     "text": [
      "Iter 0 => val loss: 18.88111686706543, train loss: 19.203182220458984\n",
      "Saving model\n",
      "Iter 10 => val loss: 16.465190887451172, train loss: 16.589309692382812\n",
      "Saving model\n",
      "Iter 20 => val loss: 14.965033531188965, train loss: 15.085945129394531\n",
      "Saving model\n",
      "Iter 30 => val loss: 13.295684814453125, train loss: 13.397741317749023\n",
      "Saving model\n",
      "Iter 40 => val loss: 11.991907119750977, train loss: 12.036184310913086\n",
      "Saving model\n",
      "Iter 50 => val loss: 11.079769134521484, train loss: 11.093186378479004\n",
      "Saving model\n",
      "Iter 60 => val loss: 10.404813766479492, train loss: 10.388388633728027\n",
      "Saving model\n",
      "Iter 70 => val loss: 9.89212417602539, train loss: 9.850378036499023\n",
      "Saving model\n",
      "Iter 80 => val loss: 9.481792449951172, train loss: 9.422518730163574\n",
      "Saving model\n",
      "Iter 90 => val loss: 9.117734909057617, train loss: 9.052176475524902\n",
      "Saving model\n",
      "Iter 100 => val loss: 8.730012893676758, train loss: 8.67037582397461\n",
      "Saving model\n",
      "Iter 110 => val loss: 8.166153907775879, train loss: 8.143924713134766\n",
      "Saving model\n",
      "Iter 120 => val loss: 7.406614303588867, train loss: 7.4146928787231445\n",
      "Saving model\n",
      "Iter 130 => val loss: 6.903118133544922, train loss: 6.893027305603027\n",
      "Saving model\n",
      "Iter 140 => val loss: 6.625566005706787, train loss: 6.608172416687012\n",
      "Saving model\n",
      "Iter 150 => val loss: 6.414277076721191, train loss: 6.39547061920166\n",
      "Saving model\n",
      "Iter 160 => val loss: 6.238359451293945, train loss: 6.2190327644348145\n",
      "Saving model\n",
      "Iter 170 => val loss: 6.0881123542785645, train loss: 6.068571090698242\n",
      "Saving model\n",
      "Iter 180 => val loss: 5.957618713378906, train loss: 5.938084125518799\n",
      "Saving model\n",
      "Iter 190 => val loss: 5.8426055908203125, train loss: 5.823314666748047\n",
      "Saving model\n",
      "Iter 200 => val loss: 5.739935398101807, train loss: 5.721108436584473\n",
      "Saving model\n",
      "Iter 210 => val loss: 5.647374629974365, train loss: 5.629165172576904\n",
      "Saving model\n",
      "Iter 220 => val loss: 5.563179969787598, train loss: 5.545685291290283\n",
      "Saving model\n",
      "Iter 230 => val loss: 5.485998153686523, train loss: 5.469288349151611\n",
      "Saving model\n",
      "Iter 240 => val loss: 5.414772987365723, train loss: 5.398881912231445\n",
      "Saving model\n",
      "Iter 250 => val loss: 5.348621368408203, train loss: 5.3335723876953125\n",
      "Saving model\n",
      "Iter 260 => val loss: 5.286909580230713, train loss: 5.272668838500977\n",
      "Saving model\n",
      "Iter 270 => val loss: 5.229066371917725, train loss: 5.215612411499023\n",
      "Saving model\n",
      "Iter 280 => val loss: 5.1746296882629395, train loss: 5.161942958831787\n",
      "Saving model\n",
      "Iter 290 => val loss: 5.123222351074219, train loss: 5.111263751983643\n",
      "Saving model\n",
      "Iter 300 => val loss: 5.074512004852295, train loss: 5.063239097595215\n",
      "Saving model\n",
      "Iter 310 => val loss: 5.028229713439941, train loss: 5.017593860626221\n",
      "Saving model\n",
      "Iter 320 => val loss: 4.984127521514893, train loss: 4.974089622497559\n",
      "Saving model\n",
      "Iter 330 => val loss: 4.941980838775635, train loss: 4.932490348815918\n",
      "Saving model\n",
      "Iter 340 => val loss: 4.901613235473633, train loss: 4.892623424530029\n",
      "Saving model\n",
      "Iter 350 => val loss: 4.862870693206787, train loss: 4.8543477058410645\n",
      "Saving model\n",
      "Iter 360 => val loss: 4.825623512268066, train loss: 4.817532062530518\n",
      "Saving model\n",
      "Iter 370 => val loss: 4.78974723815918, train loss: 4.782052040100098\n",
      "Saving model\n",
      "Iter 380 => val loss: 4.755126953125, train loss: 4.747810363769531\n",
      "Saving model\n",
      "Iter 390 => val loss: 4.721673011779785, train loss: 4.714704513549805\n",
      "Saving model\n",
      "Iter 400 => val loss: 4.689282417297363, train loss: 4.682641506195068\n",
      "Saving model\n",
      "Iter 410 => val loss: 4.6578755378723145, train loss: 4.6515398025512695\n",
      "Saving model\n",
      "Iter 420 => val loss: 4.62738561630249, train loss: 4.621335029602051\n",
      "Saving model\n",
      "Iter 430 => val loss: 4.597751617431641, train loss: 4.591977119445801\n",
      "Saving model\n",
      "Iter 440 => val loss: 4.56892728805542, train loss: 4.563404083251953\n",
      "Saving model\n",
      "Iter 450 => val loss: 4.540849685668945, train loss: 4.5355753898620605\n",
      "Saving model\n",
      "Iter 460 => val loss: 4.513482093811035, train loss: 4.508440017700195\n",
      "Saving model\n",
      "Iter 470 => val loss: 4.486782073974609, train loss: 4.4819536209106445\n",
      "Saving model\n",
      "Iter 480 => val loss: 4.460712432861328, train loss: 4.456082344055176\n",
      "Saving model\n",
      "Iter 490 => val loss: 4.4352335929870605, train loss: 4.430795192718506\n",
      "Saving model\n"
     ]
    },
    {
     "data": {
      "text/plain": [
       "(0.77710000000000001,\n",
       " [(0.84122287968441811, 0.87040816326530612),\n",
       "  (0.9038290293855743, 0.89427312775330392),\n",
       "  (0.75475475475475473, 0.73062015503875966),\n",
       "  (0.75730994152046782, 0.76930693069306932),\n",
       "  (0.77108433734939763, 0.7820773930753564),\n",
       "  (0.66587677725118488, 0.6300448430493274),\n",
       "  (0.83350568769389866, 0.84133611691022969),\n",
       "  (0.83449651046859419, 0.81420233463035019),\n",
       "  (0.66798810703667, 0.69199178644763859),\n",
       "  (0.71148184494602551, 0.71853320118929631)],\n",
       " array([[ 853,    0,   26,   13,    8,   36,   31,   13,   21,   13],\n",
       "        [   0, 1015,   15,   14,    1,   15,   11,   15,   30,    7],\n",
       "        [  15,   44,  754,   35,   10,   13,   34,   32,   49,   13],\n",
       "        [  16,   16,   57,  777,    4,   74,    4,   16,   45,   17],\n",
       "        [   2,    0,   23,    4,  768,   34,   22,   18,   12,  113],\n",
       "        [  44,   16,   15,   68,   14,  562,   31,    7,   57,   30],\n",
       "        [  17,    7,   27,   13,   29,   32,  806,    7,   24,    5],\n",
       "        [   7,    2,   30,   15,    2,   28,    0,  837,   28,   54],\n",
       "        [  18,   31,   68,   50,   32,   75,   18,   11,  674,   32],\n",
       "        [   8,    4,   17,   21,  114,   23,    1,   72,   34,  725]]))"
      ]
     },
     "execution_count": 3,
     "metadata": {},
     "output_type": "execute_result"
    }
   ],
   "source": [
    "X_train, X_valid, y_train, y_valid = train_test_split(mnist.train.images, mnist.train.labels, test_size=0.2, random_state=42)\n",
    "model = TFDeep([D, C], param_delta=0.15, param_lambda=0.001)\n",
    "model.train_val(X_train, y_train, X_valid, y_valid, 500)\n",
    "Y_test_ = np.argmax(mnist.test.labels, axis=1)\n",
    "Y_test = np.argmax(model.eval(mnist.test.images), axis=1)\n",
    "eval_perf_multi(Y_test_, Y_test)"
   ]
  },
  {
   "cell_type": "markdown",
   "metadata": {},
   "source": [
    "#### Mini-batch"
   ]
  },
  {
   "cell_type": "code",
   "execution_count": 9,
   "metadata": {},
   "outputs": [
    {
     "name": "stdout",
     "output_type": "stream",
     "text": [
      "Iter 0 => loss: 7.584579944610596\n",
      "Iter 10 => loss: 0.711775541305542\n",
      "Iter 20 => loss: 0.44324976205825806\n",
      "Iter 30 => loss: 0.5936893820762634\n",
      "Iter 40 => loss: 0.49334269762039185\n",
      "Iter 50 => loss: 0.5475422739982605\n",
      "Iter 60 => loss: 0.6129966378211975\n",
      "Iter 70 => loss: 0.6339586973190308\n",
      "Iter 80 => loss: 0.4549546241760254\n",
      "Iter 90 => loss: 0.5359023809432983\n",
      "Iter 100 => loss: 0.5844183564186096\n",
      "Iter 110 => loss: 0.6117267608642578\n",
      "Iter 120 => loss: 0.5596888661384583\n",
      "Iter 130 => loss: 0.4994206726551056\n",
      "Iter 140 => loss: 0.5423874855041504\n",
      "Iter 150 => loss: 0.4992430806159973\n",
      "Iter 160 => loss: 0.4288717210292816\n",
      "Iter 170 => loss: 0.6103673577308655\n",
      "Iter 180 => loss: 0.4397605359554291\n",
      "Iter 190 => loss: 0.5603670477867126\n",
      "Iter 200 => loss: 0.560918927192688\n",
      "Iter 210 => loss: 0.4618157744407654\n",
      "Iter 220 => loss: 0.5239970684051514\n",
      "Iter 230 => loss: 0.6037610769271851\n",
      "Iter 240 => loss: 0.5270404815673828\n",
      "Iter 250 => loss: 0.6100277900695801\n",
      "Iter 260 => loss: 0.6158938407897949\n",
      "Iter 270 => loss: 0.5268299579620361\n",
      "Iter 280 => loss: 0.5326147079467773\n",
      "Iter 290 => loss: 0.5050317645072937\n",
      "Iter 300 => loss: 0.46493661403656006\n",
      "Iter 310 => loss: 0.49700042605400085\n",
      "Iter 320 => loss: 0.45308929681777954\n",
      "Iter 330 => loss: 0.630653977394104\n",
      "Iter 340 => loss: 0.5425834655761719\n",
      "Iter 350 => loss: 0.6168956756591797\n",
      "Iter 360 => loss: 0.7655332684516907\n",
      "Iter 370 => loss: 0.5771721005439758\n",
      "Iter 380 => loss: 0.517946720123291\n",
      "Iter 390 => loss: 0.5941864252090454\n",
      "Iter 400 => loss: 0.5976834297180176\n",
      "Iter 410 => loss: 0.5120803117752075\n",
      "Iter 420 => loss: 0.536260724067688\n",
      "Iter 430 => loss: 0.6099278926849365\n",
      "Iter 440 => loss: 0.6089206337928772\n",
      "Iter 450 => loss: 0.5669751167297363\n",
      "Iter 460 => loss: 0.5363076329231262\n",
      "Iter 470 => loss: 0.5275090932846069\n",
      "Iter 480 => loss: 0.7050670981407166\n",
      "Iter 490 => loss: 0.46904832124710083\n"
     ]
    },
    {
     "data": {
      "text/plain": [
       "(0.90539999999999998,\n",
       " [(0.92065009560229449, 0.98265306122448981),\n",
       "  (0.93776641091219093, 0.96916299559471364),\n",
       "  (0.92819429778247098, 0.85174418604651159),\n",
       "  (0.89064039408866991, 0.89504950495049507),\n",
       "  (0.88491295938104453, 0.93177189409368633),\n",
       "  (0.8787528868360277, 0.85313901345291476),\n",
       "  (0.92901878914405012, 0.92901878914405012),\n",
       "  (0.90269749518304432, 0.91147859922178986),\n",
       "  (0.86883525708289611, 0.85010266940451751),\n",
       "  (0.90412371134020619, 0.86917740336967297)],\n",
       " array([[ 963,    0,   15,    5,    2,   12,   19,    4,   11,   15],\n",
       "        [   0, 1100,   14,    3,    6,    7,    3,   20,   12,    8],\n",
       "        [   1,    2,  879,   15,    5,    1,    6,   22,   11,    5],\n",
       "        [   2,    3,   20,  904,    1,   42,    1,    4,   27,   11],\n",
       "        [   1,    0,   17,    1,  915,   13,   15,   11,   14,   47],\n",
       "        [   5,    2,    3,   29,    1,  761,   21,    0,   33,   11],\n",
       "        [   5,    4,   15,    4,   10,   17,  890,    0,   13,    0],\n",
       "        [   1,    2,   23,   22,    1,    9,    1,  937,   14,   28],\n",
       "        [   2,   22,   39,   20,    7,   22,    2,    4,  828,    7],\n",
       "        [   0,    0,    7,    7,   34,    8,    0,   26,   11,  877]]))"
      ]
     },
     "execution_count": 9,
     "metadata": {},
     "output_type": "execute_result"
    }
   ],
   "source": [
    "model = TFDeep([D, C], param_delta=0.15, param_lambda=0.01)\n",
    "model.train_mb(mnist.train.images, mnist.train.labels, 500, 100)\n",
    "Y_test_ = np.argmax(mnist.test.labels, axis=1)\n",
    "Y_test = np.argmax(model.eval(mnist.test.images), axis=1)\n",
    "eval_perf_multi(Y_test_, Y_test)"
   ]
  },
  {
   "cell_type": "code",
   "execution_count": 10,
   "metadata": {},
   "outputs": [
    {
     "data": {
      "image/png": "[encoded data removed]",
      "text/plain": [
       "<matplotlib.figure.Figure at 0x11ee99c88>"
      ]
     },
     "metadata": {},
     "output_type": "display_data"
    },
    {
     "data": {
      "image/png": "[encoded data removed]",
      "text/plain": [
       "<matplotlib.figure.Figure at 0x1215a9a58>"
      ]
     },
     "metadata": {},
     "output_type": "display_data"
    },
    {
     "data": {
      "image/png": "[encoded data removed]",
      "text/plain": [
       "<matplotlib.figure.Figure at 0x121572ef0>"
      ]
     },
     "metadata": {},
     "output_type": "display_data"
    },
    {
     "data": {
      "image/png": "[encoded data removed]",
      "text/plain": [
       "<matplotlib.figure.Figure at 0x12184f668>"
      ]
     },
     "metadata": {},
     "output_type": "display_data"
    },
    {
     "data": {
      "image/png": "[encoded data removed]",
      "text/plain": [
       "<matplotlib.figure.Figure at 0x12188b2b0>"
      ]
     },
     "metadata": {},
     "output_type": "display_data"
    },
    {
     "data": {
      "image/png": "[encoded data removed]",
      "text/plain": [
       "<matplotlib.figure.Figure at 0x121934c18>"
      ]
     },
     "metadata": {},
     "output_type": "display_data"
    },
    {
     "data": {
      "image/png": "[encoded data removed]",
      "text/plain": [
       "<matplotlib.figure.Figure at 0x1214f26a0>"
      ]
     },
     "metadata": {},
     "output_type": "display_data"
    },
    {
     "data": {
      "image/png": "[encoded data removed]",
      "text/plain": [
       "<matplotlib.figure.Figure at 0x121fc8400>"
      ]
     },
     "metadata": {},
     "output_type": "display_data"
    },
    {
     "data": {
      "image/png": "[encoded data removed]",
      "text/plain": [
       "<matplotlib.figure.Figure at 0x122167748>"
      ]
     },
     "metadata": {},
     "output_type": "display_data"
    },
    {
     "data": {
      "image/png": "[encoded data removed]",
      "text/plain": [
       "<matplotlib.figure.Figure at 0x12224a080>"
      ]
     },
     "metadata": {},
     "output_type": "display_data"
    }
   ],
   "source": [
    "W = model.get_Ws()[0]\n",
    "for i in range(10):\n",
    "    plt.imshow(W[:,i].reshape(28,28), cmap=plt.get_cmap('gray'), vmin=0, vmax=1)\n",
    "    plt.show()"
   ]
  },
  {
   "cell_type": "markdown",
   "metadata": {},
   "source": [
    "#### Adam"
   ]
  },
  {
   "cell_type": "code",
   "execution_count": 4,
   "metadata": {},
   "outputs": [
    {
     "name": "stdout",
     "output_type": "stream",
     "text": [
      "Iter 0 => loss: 46.490142822265625\n",
      "Iter 10 => loss: 20.045557022094727\n",
      "Iter 20 => loss: 9.171930313110352\n",
      "Iter 30 => loss: 3.656351089477539\n",
      "Iter 40 => loss: 1.3995842933654785\n",
      "Iter 50 => loss: 0.749605655670166\n",
      "Iter 60 => loss: 0.518329381942749\n",
      "Iter 70 => loss: 0.704719066619873\n",
      "Iter 80 => loss: 0.6530693769454956\n",
      "Iter 90 => loss: 0.6117146611213684\n",
      "Iter 100 => loss: 0.6614542603492737\n",
      "Iter 110 => loss: 0.6086908578872681\n",
      "Iter 120 => loss: 0.5538116693496704\n",
      "Iter 130 => loss: 0.53743976354599\n",
      "Iter 140 => loss: 0.4888560175895691\n",
      "Iter 150 => loss: 0.6028777956962585\n",
      "Iter 160 => loss: 0.5319275259971619\n",
      "Iter 170 => loss: 0.49698907136917114\n",
      "Iter 180 => loss: 0.6462604999542236\n",
      "Iter 190 => loss: 0.7663649320602417\n"
     ]
    },
    {
     "data": {
      "text/plain": [
       "(0.90759999999999996,\n",
       " [(0.93548387096774188, 0.97653061224489801),\n",
       "  (0.93474576271186438, 0.9718061674008811),\n",
       "  (0.92887029288702927, 0.86046511627906974),\n",
       "  (0.88349514563106801, 0.90099009900990101),\n",
       "  (0.90400000000000003, 0.92057026476578407),\n",
       "  (0.89166666666666672, 0.83968609865470856),\n",
       "  (0.92073170731707321, 0.94572025052192066),\n",
       "  (0.91956305858987086, 0.90077821011673154),\n",
       "  (0.87187499999999996, 0.85934291581108835),\n",
       "  (0.8784313725490196, 0.88800792864222)],\n",
       " array([[ 957,    0,   12,    5,    1,   11,   13,    3,    9,   12],\n",
       "        [   0, 1103,   14,    2,    7,    8,    3,   22,   13,    8],\n",
       "        [   2,    2,  888,   16,    4,    2,    5,   22,   10,    5],\n",
       "        [   2,    3,   19,  910,    1,   48,    2,    5,   27,   13],\n",
       "        [   1,    0,   14,    1,  904,   12,   10,   10,    8,   40],\n",
       "        [   5,    2,    0,   26,    1,  749,   17,    0,   30,   10],\n",
       "        [   9,    4,   18,    4,   12,   18,  906,    0,   13,    0],\n",
       "        [   1,    1,   20,   16,    1,   10,    1,  926,   13,   18],\n",
       "        [   3,   20,   37,   20,    6,   25,    1,    4,  837,    7],\n",
       "        [   0,    0,   10,   10,   45,    9,    0,   36,   14,  896]]))"
      ]
     },
     "execution_count": 4,
     "metadata": {},
     "output_type": "execute_result"
    }
   ],
   "source": [
    "model = TFDeep([D, C], param_delta=1e-4, param_lambda=0.01, optimizer=tf.train.AdamOptimizer)\n",
    "model.train_mb(mnist.train.images, mnist.train.labels, 200, 100)\n",
    "Y_test_ = np.argmax(mnist.test.labels, axis=1)\n",
    "Y_test = np.argmax(model.eval(mnist.test.images), axis=1)\n",
    "eval_perf_multi(Y_test_, Y_test)"
   ]
  },
  {
   "cell_type": "markdown",
   "metadata": {},
   "source": [
    "#### Adam + Decay"
   ]
  },
  {
   "cell_type": "code",
   "execution_count": 5,
   "metadata": {},
   "outputs": [
    {
     "name": "stdout",
     "output_type": "stream",
     "text": [
      "Iter 0 => loss: 31.951736450195312\n",
      "Iter 10 => loss: 6.281090259552002\n",
      "Iter 20 => loss: 2.994577646255493\n",
      "Iter 30 => loss: 1.8639854192733765\n",
      "Iter 40 => loss: 1.2663469314575195\n",
      "Iter 50 => loss: 1.1712768077850342\n",
      "Iter 60 => loss: 0.9570293426513672\n",
      "Iter 70 => loss: 0.8582539558410645\n",
      "Iter 80 => loss: 0.8394984006881714\n",
      "Iter 90 => loss: 0.8049948811531067\n",
      "Iter 100 => loss: 0.7906666994094849\n",
      "Iter 110 => loss: 0.7778822779655457\n",
      "Iter 120 => loss: 0.7787295579910278\n",
      "Iter 130 => loss: 0.8052607178688049\n",
      "Iter 140 => loss: 0.7740334272384644\n",
      "Iter 150 => loss: 0.7993950843811035\n",
      "Iter 160 => loss: 0.8005402088165283\n",
      "Iter 170 => loss: 0.7703315019607544\n",
      "Iter 180 => loss: 0.7968160510063171\n",
      "Iter 190 => loss: 0.7862389087677002\n"
     ]
    },
    {
     "data": {
      "text/plain": [
       "(0.96230000000000004,\n",
       " [(0.96796796796796791, 0.98673469387755097),\n",
       "  (0.9850220264317181, 0.9850220264317181),\n",
       "  (0.95861405197305105, 0.96511627906976749),\n",
       "  (0.95566502463054193, 0.96039603960396036),\n",
       "  (0.9620512820512821, 0.95519348268839099),\n",
       "  (0.95833333333333337, 0.95403587443946192),\n",
       "  (0.97248677248677251, 0.95929018789144049),\n",
       "  (0.95660559305689485, 0.96498054474708173),\n",
       "  (0.94922279792746111, 0.94045174537987675),\n",
       "  (0.95409181636726548, 0.94747274529236869)],\n",
       " array([[ 967,    0,    4,    0,    2,    6,   11,    0,    4,    5],\n",
       "        [   1, 1118,    3,    0,    0,    0,    4,    4,    1,    4],\n",
       "        [   2,    2,  996,    9,    6,    0,    5,    8,    9,    2],\n",
       "        [   1,    3,    3,  970,    1,   10,    1,    7,   12,    7],\n",
       "        [   1,    0,    7,    0,  938,    0,    6,    1,    7,   15],\n",
       "        [   1,    1,    2,   10,    3,  851,    8,    0,    9,    3],\n",
       "        [   3,    3,    2,    0,    5,    8,  919,    0,    4,    1],\n",
       "        [   2,    2,    4,    9,    3,    2,    2,  992,    8,   13],\n",
       "        [   2,    6,   11,    4,    5,   12,    2,    4,  916,    3],\n",
       "        [   0,    0,    0,    8,   19,    3,    0,   12,    4,  956]]))"
      ]
     },
     "execution_count": 5,
     "metadata": {},
     "output_type": "execute_result"
    }
   ],
   "source": [
    "model = TFDeep([D, 100, C], param_delta=1e-3, param_lambda=0.001, optimizer=tf.train.AdamOptimizer, use_decay=True)\n",
    "model.train_mb(mnist.train.images, mnist.train.labels, 200, 100)\n",
    "Y_test_ = np.argmax(mnist.test.labels, axis=1)\n",
    "Y_test = np.argmax(model.eval(mnist.test.images), axis=1)\n",
    "eval_perf_multi(Y_test_, Y_test)"
   ]
  },
  {
   "cell_type": "markdown",
   "metadata": {},
   "source": [
    "#### SVM"
   ]
  },
  {
   "cell_type": "code",
   "execution_count": 11,
   "metadata": {},
   "outputs": [
    {
     "data": {
      "text/plain": [
       "(0.94389999999999996,\n",
       " [(0.96027805362462759, 0.98673469387755097),\n",
       "  (0.9671848013816926, 0.986784140969163),\n",
       "  (0.9375, 0.93023255813953487),\n",
       "  (0.92592592592592593, 0.94059405940594054),\n",
       "  (0.92680514342235409, 0.95417515274949083),\n",
       "  (0.92988505747126438, 0.90695067264573992),\n",
       "  (0.94580777096114521, 0.96555323590814202),\n",
       "  (0.95787362086258776, 0.92898832684824906),\n",
       "  (0.94192185850052801, 0.91581108829568791),\n",
       "  (0.94093686354378814, 0.9157581764122894)],\n",
       " array([[ 967,    0,    8,    0,    1,    7,    9,    2,    4,    9],\n",
       "        [   0, 1120,    1,    1,    1,    5,    3,   13,    7,    7],\n",
       "        [   1,    2,  960,   16,    7,    5,    4,   22,    7,    0],\n",
       "        [   0,    3,    9,  950,    0,   32,    1,    5,   14,   12],\n",
       "        [   0,    0,   11,    1,  937,    7,    6,    8,    8,   33],\n",
       "        [   5,    1,    1,   17,    0,  809,    9,    0,   23,    5],\n",
       "        [   5,    3,   14,    1,    8,   11,  925,    0,   10,    1],\n",
       "        [   1,    1,    8,    9,    2,    2,    0,  955,    6,   13],\n",
       "        [   1,    5,   18,   11,    2,    9,    1,    3,  892,    5],\n",
       "        [   0,    0,    2,    4,   24,    5,    0,   20,    3,  924]]))"
      ]
     },
     "execution_count": 11,
     "metadata": {},
     "output_type": "execute_result"
    }
   ],
   "source": [
    "model = svm.SVC(decision_function_shape='ovo', cache_size=1000)\n",
    "model.fit(mnist.train.images, np.argmax(mnist.train.labels, axis=1))\n",
    "Y_test_ = np.argmax(mnist.test.labels, axis=1)\n",
    "Y_test = model.predict(mnist.test.images)\n",
    "eval_perf_multi(Y_test_, Y_test)"
   ]
  },
  {
   "cell_type": "code",
   "execution_count": 14,
   "metadata": {},
   "outputs": [
    {
     "data": {
      "text/plain": [
       "(0.93930000000000002,\n",
       " [(0.95129224652087474, 0.97653061224489801),\n",
       "  (0.97140381282495669, 0.98766519823788546),\n",
       "  (0.92720306513409967, 0.93798449612403101),\n",
       "  (0.9049904030710173, 0.93366336633663372),\n",
       "  (0.93089832181638699, 0.96028513238289204),\n",
       "  (0.91609977324263037, 0.905829596412556),\n",
       "  (0.95478443743427965, 0.94780793319415446),\n",
       "  (0.952191235059761, 0.92996108949416345),\n",
       "  (0.92993630573248409, 0.89938398357289528),\n",
       "  (0.94906444906444909, 0.90485629335976214)],\n",
       " array([[ 957,    0,    9,    2,    1,    9,   12,    2,    8,    6],\n",
       "        [   0, 1121,    5,    4,    1,    2,    2,    6,    7,    6],\n",
       "        [   4,    4,  968,   16,    8,    3,   11,   20,    6,    4],\n",
       "        [   1,    2,   10,  943,    1,   39,    1,   11,   25,    9],\n",
       "        [   1,    0,    2,    1,  943,    5,    5,   10,    7,   39],\n",
       "        [   7,    1,    3,   17,    1,  808,   17,    0,   25,    3],\n",
       "        [   8,    1,   11,    1,    5,   10,  908,    0,    7,    0],\n",
       "        [   1,    1,    7,    8,    3,    1,    0,  956,    7,   20],\n",
       "        [   1,    5,   16,   15,    3,   12,    2,    3,  876,    9],\n",
       "        [   0,    0,    1,    3,   16,    3,    0,   20,    6,  913]]))"
      ]
     },
     "execution_count": 14,
     "metadata": {},
     "output_type": "execute_result"
    }
   ],
   "source": [
    "model = svm.SVC(decision_function_shape='ovo', kernel='linear', cache_size=1000)\n",
    "model.fit(mnist.train.images, np.argmax(mnist.train.labels, axis=1))\n",
    "Y_test_ = np.argmax(mnist.test.labels, axis=1)\n",
    "Y_test = model.predict(mnist.test.images)\n",
    "eval_perf_multi(Y_test_, Y_test)"
   ]
  },
  {
   "cell_type": "code",
   "execution_count": null,
   "metadata": {},
   "outputs": [],
   "source": []
  }
 ],
 "metadata": {
  "kernelspec": {
   "display_name": "Python 3",
   "language": "python",
   "name": "python3"
  },
  "language_info": {
   "codemirror_mode": {
    "name": "ipython",
    "version": 3
   },
   "file_extension": ".py",
   "mimetype": "text/x-python",
   "name": "python",
   "nbconvert_exporter": "python",
   "pygments_lexer": "ipython3",
   "version": "3.5.4"
  }
 },
 "nbformat": 4,
 "nbformat_minor": 2
}
